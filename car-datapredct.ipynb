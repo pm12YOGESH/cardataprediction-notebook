{
 "cells": [
  {
   "cell_type": "code",
   "execution_count": 1,
   "id": "e34c34a1",
   "metadata": {
    "_cell_guid": "b1076dfc-b9ad-4769-8c92-a6c4dae69d19",
    "_uuid": "8f2839f25d086af736a60e9eeb907d3b93b6e0e5",
    "execution": {
     "iopub.execute_input": "2022-09-20T15:19:43.408878Z",
     "iopub.status.busy": "2022-09-20T15:19:43.408410Z",
     "iopub.status.idle": "2022-09-20T15:19:43.428946Z",
     "shell.execute_reply": "2022-09-20T15:19:43.427457Z"
    },
    "papermill": {
     "duration": 0.030955,
     "end_time": "2022-09-20T15:19:43.431781",
     "exception": false,
     "start_time": "2022-09-20T15:19:43.400826",
     "status": "completed"
    },
    "tags": []
   },
   "outputs": [
    {
     "name": "stdout",
     "output_type": "stream",
     "text": [
      "/kaggle/input/cardata/cardata.csv\n"
     ]
    }
   ],
   "source": [
    "# This Python 3 environment comes with many helpful analytics libraries installed\n",
    "# It is defined by the kaggle/python Docker image: https://github.com/kaggle/docker-python\n",
    "# For example, here's several helpful packages to load\n",
    "\n",
    "import numpy as np # linear algebra\n",
    "import pandas as pd # data processing, CSV file I/O (e.g. pd.read_csv)\n",
    "\n",
    "# Input data files are available in the read-only \"../input/\" directory\n",
    "# For example, running this (by clicking run or pressing Shift+Enter) will list all files under the input directory\n",
    "\n",
    "import os\n",
    "for dirname, _, filenames in os.walk('/kaggle/input'):\n",
    "    for filename in filenames:\n",
    "        print(os.path.join(dirname, filename))\n",
    "\n",
    "# You can write up to 20GB to the current directory (/kaggle/working/) that gets preserved as output when you create a version using \"Save & Run All\" \n",
    "# You can also write temporary files to /kaggle/temp/, but they won't be saved outside of the current session"
   ]
  },
  {
   "cell_type": "code",
   "execution_count": 2,
   "id": "e3c93550",
   "metadata": {
    "execution": {
     "iopub.execute_input": "2022-09-20T15:19:43.443088Z",
     "iopub.status.busy": "2022-09-20T15:19:43.442396Z",
     "iopub.status.idle": "2022-09-20T15:19:45.040629Z",
     "shell.execute_reply": "2022-09-20T15:19:45.039158Z"
    },
    "papermill": {
     "duration": 1.607281,
     "end_time": "2022-09-20T15:19:45.043770",
     "exception": false,
     "start_time": "2022-09-20T15:19:43.436489",
     "status": "completed"
    },
    "tags": []
   },
   "outputs": [],
   "source": [
    "import pandas as pd\n",
    "import matplotlib.pyplot as plt\n",
    "import seaborn as sns\n",
    "from sklearn.model_selection import train_test_split\n",
    "from sklearn.linear_model import LinearRegression\n",
    "from sklearn.linear_model import Lasso\n",
    "from sklearn import metrics"
   ]
  },
  {
   "cell_type": "code",
   "execution_count": 3,
   "id": "1770b17b",
   "metadata": {
    "execution": {
     "iopub.execute_input": "2022-09-20T15:19:45.055281Z",
     "iopub.status.busy": "2022-09-20T15:19:45.054852Z",
     "iopub.status.idle": "2022-09-20T15:19:45.093165Z",
     "shell.execute_reply": "2022-09-20T15:19:45.092320Z"
    },
    "papermill": {
     "duration": 0.046958,
     "end_time": "2022-09-20T15:19:45.095746",
     "exception": false,
     "start_time": "2022-09-20T15:19:45.048788",
     "status": "completed"
    },
    "tags": []
   },
   "outputs": [
    {
     "data": {
      "text/html": [
       "<div>\n",
       "<style scoped>\n",
       "    .dataframe tbody tr th:only-of-type {\n",
       "        vertical-align: middle;\n",
       "    }\n",
       "\n",
       "    .dataframe tbody tr th {\n",
       "        vertical-align: top;\n",
       "    }\n",
       "\n",
       "    .dataframe thead th {\n",
       "        text-align: right;\n",
       "    }\n",
       "</style>\n",
       "<table border=\"1\" class=\"dataframe\">\n",
       "  <thead>\n",
       "    <tr style=\"text-align: right;\">\n",
       "      <th></th>\n",
       "      <th>Car_Name</th>\n",
       "      <th>Year</th>\n",
       "      <th>Selling_Price</th>\n",
       "      <th>Present_Price</th>\n",
       "      <th>Kms_Driven</th>\n",
       "      <th>Fuel_Type</th>\n",
       "      <th>Seller_Type</th>\n",
       "      <th>Transmission</th>\n",
       "      <th>Owner</th>\n",
       "    </tr>\n",
       "  </thead>\n",
       "  <tbody>\n",
       "    <tr>\n",
       "      <th>0</th>\n",
       "      <td>ritz</td>\n",
       "      <td>2014</td>\n",
       "      <td>3.35</td>\n",
       "      <td>5.59</td>\n",
       "      <td>27000</td>\n",
       "      <td>Petrol</td>\n",
       "      <td>Dealer</td>\n",
       "      <td>Manual</td>\n",
       "      <td>0</td>\n",
       "    </tr>\n",
       "    <tr>\n",
       "      <th>1</th>\n",
       "      <td>sx4</td>\n",
       "      <td>2013</td>\n",
       "      <td>4.75</td>\n",
       "      <td>9.54</td>\n",
       "      <td>43000</td>\n",
       "      <td>Diesel</td>\n",
       "      <td>Dealer</td>\n",
       "      <td>Manual</td>\n",
       "      <td>0</td>\n",
       "    </tr>\n",
       "    <tr>\n",
       "      <th>2</th>\n",
       "      <td>ciaz</td>\n",
       "      <td>2017</td>\n",
       "      <td>7.25</td>\n",
       "      <td>9.85</td>\n",
       "      <td>6900</td>\n",
       "      <td>Petrol</td>\n",
       "      <td>Dealer</td>\n",
       "      <td>Manual</td>\n",
       "      <td>0</td>\n",
       "    </tr>\n",
       "    <tr>\n",
       "      <th>3</th>\n",
       "      <td>wagon r</td>\n",
       "      <td>2011</td>\n",
       "      <td>2.85</td>\n",
       "      <td>4.15</td>\n",
       "      <td>5200</td>\n",
       "      <td>Petrol</td>\n",
       "      <td>Dealer</td>\n",
       "      <td>Manual</td>\n",
       "      <td>0</td>\n",
       "    </tr>\n",
       "    <tr>\n",
       "      <th>4</th>\n",
       "      <td>swift</td>\n",
       "      <td>2014</td>\n",
       "      <td>4.60</td>\n",
       "      <td>6.87</td>\n",
       "      <td>42450</td>\n",
       "      <td>Diesel</td>\n",
       "      <td>Dealer</td>\n",
       "      <td>Manual</td>\n",
       "      <td>0</td>\n",
       "    </tr>\n",
       "  </tbody>\n",
       "</table>\n",
       "</div>"
      ],
      "text/plain": [
       "  Car_Name  Year  Selling_Price  Present_Price  Kms_Driven Fuel_Type  \\\n",
       "0     ritz  2014           3.35           5.59       27000    Petrol   \n",
       "1      sx4  2013           4.75           9.54       43000    Diesel   \n",
       "2     ciaz  2017           7.25           9.85        6900    Petrol   \n",
       "3  wagon r  2011           2.85           4.15        5200    Petrol   \n",
       "4    swift  2014           4.60           6.87       42450    Diesel   \n",
       "\n",
       "  Seller_Type Transmission  Owner  \n",
       "0      Dealer       Manual      0  \n",
       "1      Dealer       Manual      0  \n",
       "2      Dealer       Manual      0  \n",
       "3      Dealer       Manual      0  \n",
       "4      Dealer       Manual      0  "
      ]
     },
     "execution_count": 3,
     "metadata": {},
     "output_type": "execute_result"
    }
   ],
   "source": [
    "data_car=pd.read_csv('/kaggle/input/cardata/cardata.csv')\n",
    "data_car.head()"
   ]
  },
  {
   "cell_type": "code",
   "execution_count": 4,
   "id": "36155bf7",
   "metadata": {
    "execution": {
     "iopub.execute_input": "2022-09-20T15:19:45.107825Z",
     "iopub.status.busy": "2022-09-20T15:19:45.107416Z",
     "iopub.status.idle": "2022-09-20T15:19:45.116958Z",
     "shell.execute_reply": "2022-09-20T15:19:45.115818Z"
    },
    "papermill": {
     "duration": 0.017879,
     "end_time": "2022-09-20T15:19:45.119265",
     "exception": false,
     "start_time": "2022-09-20T15:19:45.101386",
     "status": "completed"
    },
    "tags": []
   },
   "outputs": [
    {
     "data": {
      "text/plain": [
       "(301, 9)"
      ]
     },
     "execution_count": 4,
     "metadata": {},
     "output_type": "execute_result"
    }
   ],
   "source": [
    "data_car.shape"
   ]
  },
  {
   "cell_type": "code",
   "execution_count": 5,
   "id": "37dc93f4",
   "metadata": {
    "execution": {
     "iopub.execute_input": "2022-09-20T15:19:45.132074Z",
     "iopub.status.busy": "2022-09-20T15:19:45.130698Z",
     "iopub.status.idle": "2022-09-20T15:19:45.159273Z",
     "shell.execute_reply": "2022-09-20T15:19:45.158007Z"
    },
    "papermill": {
     "duration": 0.037453,
     "end_time": "2022-09-20T15:19:45.161903",
     "exception": false,
     "start_time": "2022-09-20T15:19:45.124450",
     "status": "completed"
    },
    "tags": []
   },
   "outputs": [
    {
     "name": "stdout",
     "output_type": "stream",
     "text": [
      "<class 'pandas.core.frame.DataFrame'>\n",
      "RangeIndex: 301 entries, 0 to 300\n",
      "Data columns (total 9 columns):\n",
      " #   Column         Non-Null Count  Dtype  \n",
      "---  ------         --------------  -----  \n",
      " 0   Car_Name       301 non-null    object \n",
      " 1   Year           301 non-null    int64  \n",
      " 2   Selling_Price  301 non-null    float64\n",
      " 3   Present_Price  301 non-null    float64\n",
      " 4   Kms_Driven     301 non-null    int64  \n",
      " 5   Fuel_Type      301 non-null    object \n",
      " 6   Seller_Type    301 non-null    object \n",
      " 7   Transmission   301 non-null    object \n",
      " 8   Owner          301 non-null    int64  \n",
      "dtypes: float64(2), int64(3), object(4)\n",
      "memory usage: 21.3+ KB\n"
     ]
    }
   ],
   "source": [
    "data_car.info()"
   ]
  },
  {
   "cell_type": "code",
   "execution_count": 6,
   "id": "bbbe99f1",
   "metadata": {
    "execution": {
     "iopub.execute_input": "2022-09-20T15:19:45.173710Z",
     "iopub.status.busy": "2022-09-20T15:19:45.173072Z",
     "iopub.status.idle": "2022-09-20T15:19:45.189965Z",
     "shell.execute_reply": "2022-09-20T15:19:45.188418Z"
    },
    "papermill": {
     "duration": 0.026064,
     "end_time": "2022-09-20T15:19:45.192751",
     "exception": false,
     "start_time": "2022-09-20T15:19:45.166687",
     "status": "completed"
    },
    "tags": []
   },
   "outputs": [
    {
     "name": "stdout",
     "output_type": "stream",
     "text": [
      "|                                       |   0 |\n",
      "|:--------------------------------------|----:|\n",
      "| ('Petrol', 'Dealer', 'Manual')        | 116 |\n",
      "| ('Petrol', 'Individual', 'Manual')    |  95 |\n",
      "| ('Diesel', 'Dealer', 'Manual')        |  48 |\n",
      "| ('Petrol', 'Dealer', 'Automatic')     |  18 |\n",
      "| ('Diesel', 'Dealer', 'Automatic')     |  11 |\n",
      "| ('Petrol', 'Individual', 'Automatic') |  10 |\n",
      "| ('CNG', 'Dealer', 'Manual')           |   2 |\n",
      "| ('Diesel', 'Individual', 'Automatic') |   1 |\n"
     ]
    }
   ],
   "source": [
    "print(data_car[[\"Fuel_Type\", \"Seller_Type\", \"Transmission\"]].value_counts().to_markdown())"
   ]
  },
  {
   "cell_type": "code",
   "execution_count": 7,
   "id": "748f52ee",
   "metadata": {
    "execution": {
     "iopub.execute_input": "2022-09-20T15:19:45.205517Z",
     "iopub.status.busy": "2022-09-20T15:19:45.204269Z",
     "iopub.status.idle": "2022-09-20T15:19:45.230324Z",
     "shell.execute_reply": "2022-09-20T15:19:45.228928Z"
    },
    "papermill": {
     "duration": 0.03475,
     "end_time": "2022-09-20T15:19:45.232663",
     "exception": false,
     "start_time": "2022-09-20T15:19:45.197913",
     "status": "completed"
    },
    "tags": []
   },
   "outputs": [
    {
     "data": {
      "text/html": [
       "<div>\n",
       "<style scoped>\n",
       "    .dataframe tbody tr th:only-of-type {\n",
       "        vertical-align: middle;\n",
       "    }\n",
       "\n",
       "    .dataframe tbody tr th {\n",
       "        vertical-align: top;\n",
       "    }\n",
       "\n",
       "    .dataframe thead th {\n",
       "        text-align: right;\n",
       "    }\n",
       "</style>\n",
       "<table border=\"1\" class=\"dataframe\">\n",
       "  <thead>\n",
       "    <tr style=\"text-align: right;\">\n",
       "      <th></th>\n",
       "      <th>Car_Name</th>\n",
       "      <th>Year</th>\n",
       "      <th>Selling_Price</th>\n",
       "      <th>Present_Price</th>\n",
       "      <th>Kms_Driven</th>\n",
       "      <th>Fuel_Type</th>\n",
       "      <th>Seller_Type</th>\n",
       "      <th>Transmission</th>\n",
       "      <th>Owner</th>\n",
       "    </tr>\n",
       "  </thead>\n",
       "  <tbody>\n",
       "    <tr>\n",
       "      <th>0</th>\n",
       "      <td>ritz</td>\n",
       "      <td>2014</td>\n",
       "      <td>3.35</td>\n",
       "      <td>5.59</td>\n",
       "      <td>27000</td>\n",
       "      <td>0</td>\n",
       "      <td>0</td>\n",
       "      <td>0</td>\n",
       "      <td>0</td>\n",
       "    </tr>\n",
       "    <tr>\n",
       "      <th>1</th>\n",
       "      <td>sx4</td>\n",
       "      <td>2013</td>\n",
       "      <td>4.75</td>\n",
       "      <td>9.54</td>\n",
       "      <td>43000</td>\n",
       "      <td>1</td>\n",
       "      <td>0</td>\n",
       "      <td>0</td>\n",
       "      <td>0</td>\n",
       "    </tr>\n",
       "    <tr>\n",
       "      <th>2</th>\n",
       "      <td>ciaz</td>\n",
       "      <td>2017</td>\n",
       "      <td>7.25</td>\n",
       "      <td>9.85</td>\n",
       "      <td>6900</td>\n",
       "      <td>0</td>\n",
       "      <td>0</td>\n",
       "      <td>0</td>\n",
       "      <td>0</td>\n",
       "    </tr>\n",
       "    <tr>\n",
       "      <th>3</th>\n",
       "      <td>wagon r</td>\n",
       "      <td>2011</td>\n",
       "      <td>2.85</td>\n",
       "      <td>4.15</td>\n",
       "      <td>5200</td>\n",
       "      <td>0</td>\n",
       "      <td>0</td>\n",
       "      <td>0</td>\n",
       "      <td>0</td>\n",
       "    </tr>\n",
       "    <tr>\n",
       "      <th>4</th>\n",
       "      <td>swift</td>\n",
       "      <td>2014</td>\n",
       "      <td>4.60</td>\n",
       "      <td>6.87</td>\n",
       "      <td>42450</td>\n",
       "      <td>1</td>\n",
       "      <td>0</td>\n",
       "      <td>0</td>\n",
       "      <td>0</td>\n",
       "    </tr>\n",
       "  </tbody>\n",
       "</table>\n",
       "</div>"
      ],
      "text/plain": [
       "  Car_Name  Year  Selling_Price  Present_Price  Kms_Driven  Fuel_Type  \\\n",
       "0     ritz  2014           3.35           5.59       27000          0   \n",
       "1      sx4  2013           4.75           9.54       43000          1   \n",
       "2     ciaz  2017           7.25           9.85        6900          0   \n",
       "3  wagon r  2011           2.85           4.15        5200          0   \n",
       "4    swift  2014           4.60           6.87       42450          1   \n",
       "\n",
       "   Seller_Type  Transmission  Owner  \n",
       "0            0             0      0  \n",
       "1            0             0      0  \n",
       "2            0             0      0  \n",
       "3            0             0      0  \n",
       "4            0             0      0  "
      ]
     },
     "execution_count": 7,
     "metadata": {},
     "output_type": "execute_result"
    }
   ],
   "source": [
    "data_car.replace({'Fuel_Type':{'Petrol':0, 'Diesel':1, 'CNG':2}},inplace=True)\n",
    "data_car.replace({'Seller_Type':{'Dealer':0, 'Individual':1}},inplace=True)\n",
    "data_car.replace({'Transmission':{'Manual':0, 'Automatic':1}},inplace=True)\n",
    "data_car.head()"
   ]
  },
  {
   "cell_type": "code",
   "execution_count": 8,
   "id": "d91a4206",
   "metadata": {
    "execution": {
     "iopub.execute_input": "2022-09-20T15:19:45.245222Z",
     "iopub.status.busy": "2022-09-20T15:19:45.244819Z",
     "iopub.status.idle": "2022-09-20T15:19:45.260091Z",
     "shell.execute_reply": "2022-09-20T15:19:45.258424Z"
    },
    "papermill": {
     "duration": 0.024804,
     "end_time": "2022-09-20T15:19:45.262973",
     "exception": false,
     "start_time": "2022-09-20T15:19:45.238169",
     "status": "completed"
    },
    "tags": []
   },
   "outputs": [
    {
     "name": "stdout",
     "output_type": "stream",
     "text": [
      "     Year  Present_Price  Kms_Driven  Fuel_Type  Seller_Type  Transmission  \\\n",
      "0    2014           5.59       27000          0            0             0   \n",
      "1    2013           9.54       43000          1            0             0   \n",
      "2    2017           9.85        6900          0            0             0   \n",
      "3    2011           4.15        5200          0            0             0   \n",
      "4    2014           6.87       42450          1            0             0   \n",
      "..    ...            ...         ...        ...          ...           ...   \n",
      "296  2016          11.60       33988          1            0             0   \n",
      "297  2015           5.90       60000          0            0             0   \n",
      "298  2009          11.00       87934          0            0             0   \n",
      "299  2017          12.50        9000          1            0             0   \n",
      "300  2016           5.90        5464          0            0             0   \n",
      "\n",
      "     Owner  \n",
      "0        0  \n",
      "1        0  \n",
      "2        0  \n",
      "3        0  \n",
      "4        0  \n",
      "..     ...  \n",
      "296      0  \n",
      "297      0  \n",
      "298      0  \n",
      "299      0  \n",
      "300      0  \n",
      "\n",
      "[301 rows x 7 columns]\n"
     ]
    }
   ],
   "source": [
    "X=data_car.drop(['Car_Name','Selling_Price'],axis=1)\n",
    "Y=data_car['Selling_Price']\n",
    "print(X)"
   ]
  },
  {
   "cell_type": "code",
   "execution_count": 9,
   "id": "f54d5ecd",
   "metadata": {
    "execution": {
     "iopub.execute_input": "2022-09-20T15:19:45.276412Z",
     "iopub.status.busy": "2022-09-20T15:19:45.275996Z",
     "iopub.status.idle": "2022-09-20T15:19:45.284213Z",
     "shell.execute_reply": "2022-09-20T15:19:45.283062Z"
    },
    "papermill": {
     "duration": 0.017899,
     "end_time": "2022-09-20T15:19:45.286809",
     "exception": false,
     "start_time": "2022-09-20T15:19:45.268910",
     "status": "completed"
    },
    "tags": []
   },
   "outputs": [
    {
     "name": "stdout",
     "output_type": "stream",
     "text": [
      "0       3.35\n",
      "1       4.75\n",
      "2       7.25\n",
      "3       2.85\n",
      "4       4.60\n",
      "       ...  \n",
      "296     9.50\n",
      "297     4.00\n",
      "298     3.35\n",
      "299    11.50\n",
      "300     5.30\n",
      "Name: Selling_Price, Length: 301, dtype: float64\n"
     ]
    }
   ],
   "source": [
    "print(Y)"
   ]
  },
  {
   "cell_type": "code",
   "execution_count": 10,
   "id": "4c1cd02a",
   "metadata": {
    "execution": {
     "iopub.execute_input": "2022-09-20T15:19:45.299516Z",
     "iopub.status.busy": "2022-09-20T15:19:45.298780Z",
     "iopub.status.idle": "2022-09-20T15:19:45.307798Z",
     "shell.execute_reply": "2022-09-20T15:19:45.306532Z"
    },
    "papermill": {
     "duration": 0.017924,
     "end_time": "2022-09-20T15:19:45.310111",
     "exception": false,
     "start_time": "2022-09-20T15:19:45.292187",
     "status": "completed"
    },
    "tags": []
   },
   "outputs": [],
   "source": [
    "X_train, X_test,Y_train, Y_test=train_test_split(X,Y, test_size=0.1,random_state=2)"
   ]
  },
  {
   "cell_type": "code",
   "execution_count": 11,
   "id": "5f14b4b8",
   "metadata": {
    "execution": {
     "iopub.execute_input": "2022-09-20T15:19:45.322685Z",
     "iopub.status.busy": "2022-09-20T15:19:45.322297Z",
     "iopub.status.idle": "2022-09-20T15:19:45.352574Z",
     "shell.execute_reply": "2022-09-20T15:19:45.351270Z"
    },
    "papermill": {
     "duration": 0.03968,
     "end_time": "2022-09-20T15:19:45.355229",
     "exception": false,
     "start_time": "2022-09-20T15:19:45.315549",
     "status": "completed"
    },
    "tags": []
   },
   "outputs": [
    {
     "data": {
      "text/plain": [
       "LinearRegression()"
      ]
     },
     "execution_count": 11,
     "metadata": {},
     "output_type": "execute_result"
    }
   ],
   "source": [
    "model=LinearRegression()\n",
    "model.fit(X_train,Y_train)"
   ]
  },
  {
   "cell_type": "code",
   "execution_count": 12,
   "id": "da9f7cc3",
   "metadata": {
    "execution": {
     "iopub.execute_input": "2022-09-20T15:19:45.368708Z",
     "iopub.status.busy": "2022-09-20T15:19:45.367568Z",
     "iopub.status.idle": "2022-09-20T15:19:45.376267Z",
     "shell.execute_reply": "2022-09-20T15:19:45.375303Z"
    },
    "papermill": {
     "duration": 0.017736,
     "end_time": "2022-09-20T15:19:45.378428",
     "exception": false,
     "start_time": "2022-09-20T15:19:45.360692",
     "status": "completed"
    },
    "tags": []
   },
   "outputs": [],
   "source": [
    "training_prediction=model.predict(X_train)"
   ]
  },
  {
   "cell_type": "code",
   "execution_count": 13,
   "id": "96ae1453",
   "metadata": {
    "execution": {
     "iopub.execute_input": "2022-09-20T15:19:45.392073Z",
     "iopub.status.busy": "2022-09-20T15:19:45.391191Z",
     "iopub.status.idle": "2022-09-20T15:19:45.398095Z",
     "shell.execute_reply": "2022-09-20T15:19:45.396898Z"
    },
    "papermill": {
     "duration": 0.016852,
     "end_time": "2022-09-20T15:19:45.400851",
     "exception": false,
     "start_time": "2022-09-20T15:19:45.383999",
     "status": "completed"
    },
    "tags": []
   },
   "outputs": [
    {
     "name": "stdout",
     "output_type": "stream",
     "text": [
      "R Squared ERROR : 0.8799451660493711\n"
     ]
    }
   ],
   "source": [
    "score_err=metrics.r2_score(Y_train,training_prediction)\n",
    "print(\"R Squared ERROR :\", score_err)"
   ]
  },
  {
   "cell_type": "code",
   "execution_count": 14,
   "id": "0bc58bda",
   "metadata": {
    "execution": {
     "iopub.execute_input": "2022-09-20T15:19:45.415056Z",
     "iopub.status.busy": "2022-09-20T15:19:45.414120Z",
     "iopub.status.idle": "2022-09-20T15:19:45.629779Z",
     "shell.execute_reply": "2022-09-20T15:19:45.628464Z"
    },
    "papermill": {
     "duration": 0.225738,
     "end_time": "2022-09-20T15:19:45.632444",
     "exception": false,
     "start_time": "2022-09-20T15:19:45.406706",
     "status": "completed"
    },
    "tags": []
   },
   "outputs": [
    {
     "data": {
      "image/png": "[encoded data removed]",
      "text/plain": [
       "<Figure size 432x288 with 1 Axes>"
      ]
     },
     "metadata": {
      "needs_background": "light"
     },
     "output_type": "display_data"
    }
   ],
   "source": [
    "plt.scatter(Y_train,training_prediction,c='red')\n",
    "plt.xlabel(\"Actual Price\")\n",
    "plt.ylabel(\"Predicted Price\")\n",
    "plt.title(\"Actual Price Vs Predicted Price \")\n",
    "plt.show()"
   ]
  },
  {
   "cell_type": "code",
   "execution_count": 15,
   "id": "3672ce3f",
   "metadata": {
    "execution": {
     "iopub.execute_input": "2022-09-20T15:19:45.647896Z",
     "iopub.status.busy": "2022-09-20T15:19:45.647466Z",
     "iopub.status.idle": "2022-09-20T15:19:45.814652Z",
     "shell.execute_reply": "2022-09-20T15:19:45.813383Z"
    },
    "papermill": {
     "duration": 0.178548,
     "end_time": "2022-09-20T15:19:45.817139",
     "exception": false,
     "start_time": "2022-09-20T15:19:45.638591",
     "status": "completed"
    },
    "tags": []
   },
   "outputs": [
    {
     "name": "stdout",
     "output_type": "stream",
     "text": [
      "R Squared ERROR : 0.8365766715027051\n"
     ]
    },
    {
     "data": {
      "image/png": "[encoded data removed]",
      "text/plain": [
       "<Figure size 432x288 with 1 Axes>"
      ]
     },
     "metadata": {
      "needs_background": "light"
     },
     "output_type": "display_data"
    }
   ],
   "source": [
    "testing_prediction=model.predict(X_test)\n",
    "score_err=metrics.r2_score(Y_test,testing_prediction)\n",
    "print(\"R Squared ERROR :\", score_err)\n",
    "plt.scatter(Y_test,testing_prediction,c='darkslategrey')\n",
    "plt.xlabel(\"Actual Price\")\n",
    "plt.ylabel(\"Predicted Price\")\n",
    "plt.title(\"Actual Price Vs Predicted Price \")\n",
    "plt.show()"
   ]
  }
 ],
 "metadata": {
  "kernelspec": {
   "display_name": "Python 3",
   "language": "python",
   "name": "python3"
  },
  "language_info": {
   "codemirror_mode": {
    "name": "ipython",
    "version": 3
   },
   "file_extension": ".py",
   "mimetype": "text/x-python",
   "name": "python",
   "nbconvert_exporter": "python",
   "pygments_lexer": "ipython3",
   "version": "3.7.12"
  },
  "papermill": {
   "default_parameters": {},
   "duration": 13.33925,
   "end_time": "2022-09-20T15:19:46.645912",
   "environment_variables": {},
   "exception": null,
   "input_path": "__notebook__.ipynb",
   "output_path": "__notebook__.ipynb",
   "parameters": {},
   "start_time": "2022-09-20T15:19:33.306662",
   "version": "2.3.4"
  }
 },
 "nbformat": 4,
 "nbformat_minor": 5
}
